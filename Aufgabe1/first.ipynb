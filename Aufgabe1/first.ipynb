{
 "cells": [
  {
   "cell_type": "code",
   "execution_count": 3,
   "metadata": {},
   "outputs": [],
   "source": [
    "import threading as th\n",
    "import heapq as hq\n",
    "import time\n"
   ]
  },
  {
   "cell_type": "code",
   "execution_count": 4,
   "metadata": {},
   "outputs": [],
   "source": [
    "\n",
    "Products = { \"Wurst\":\"Wursttheke\", \"Steak\":\"Wursttheke\" , \n",
    "             \"Cheddar\": \"Käsetheke\" , \"Gouda\":\"Käsetheke\",\n",
    "             \"Brezel\":\"Bäcker\", \"Brötchen\":\"Bäcker\" ,\n",
    "            }\n",
    "\n",
    "class Station():\n",
    "    def __init__(self, name, capacity):\n",
    "        self.name = name\n",
    "        self.capacity = capacity\n",
    "        self.waiting = hq()\n",
    "        self.served = False\n",
    "        self.limit = 10\n",
    "\n",
    "\n",
    "    def serve(self, Kunde, Station):\n",
    "        print(\"Kunde %s has been served %d\", Kunde.name, Kunde.time)\n",
    "        time.sleep(Station.time)\n",
    "\n",
    "    def leave(self, Kunde, Station):\n",
    "        print(\"Kunde %s finished at %s\", Kunde.name, Station.name)\n",
    "        Kunde.list.remove(Station.name)\n",
    "\n",
    "\n",
    "    def check(self, Kunde, Station):\n",
    "        if self.served:\n",
    "            if self.waiting.length == self.limit:\n",
    "                self.leave(Kunde)\n",
    "            else:\n",
    "                print(\"Kunde %s added to %s queue\", Kunde.name, Station.name)\n",
    "                self.waiting.heappush(Kunde)\n",
    "                # bearbeite Kunden Liste\n",
    "        else:\n",
    "            self.serve()\n",
    "\n",
    "            \n",
    "def __init__(self, name):\n",
    "    self.name = None\n",
    "\n",
    "\n",
    "\n",
    "class Wurst(Station):\n",
    "    def __init__(self, name, capacity):\n",
    "        super().__init__(name, capacity)\n",
    "        self.time = 100\n",
    "\n",
    "\n",
    "class Kasse(Station):\n",
    "    def __init__(self, name, capacity):\n",
    "        super().__init__(name, capacity)\n",
    "        self.time = 100\n",
    "\n",
    "\n",
    "class Käse(Station):\n",
    "    def __init__(self, name, capacity):\n",
    "        super().__init__(name, capacity)\n",
    "        self.time = 100\n",
    "\n",
    "\n",
    "class Bäcker(Station):\n",
    "    def __init__(self, name, capacity):\n",
    "        super().__init__(name, capacity)\n",
    "        self.time = 100\n",
    "\n",
    "\n",
    "class Kunde():\n",
    "    def __init__(self, name, list):\n",
    "        pass\n",
    "        #self.list = hq()\n",
    "    def visit(Kunde, Station):\n",
    "        for e in Kunde.list:\n",
    "            #check()\n",
    "            pass\n",
    "\n",
    "class T1_Kunde(Kunde):\n",
    "    def __init__(self, name, list):\n",
    "        self.list = [\"Bäcker\", \"Wurst\", \"Käse\"]\n",
    "\n",
    "\n",
    "class T2_Kunde(Kunde):\n",
    "    def __init__(self, name, list):\n",
    "        self.list = [\"Wurst\", \"Bäcker\"]\n",
    "\n",
    "\n"
   ]
  },
  {
   "cell_type": "code",
   "execution_count": null,
   "metadata": {},
   "outputs": [],
   "source": []
  },
  {
   "cell_type": "code",
   "execution_count": null,
   "metadata": {},
   "outputs": [],
   "source": []
  },
  {
   "cell_type": "code",
   "execution_count": null,
   "metadata": {},
   "outputs": [],
   "source": [
    "\n"
   ]
  }
 ],
 "metadata": {
  "interpreter": {
   "hash": "7cc10ac5b22170fb0ee2a658c9961b206e99596b862a6f509f54c88f577ffb47"
  },
  "kernelspec": {
   "display_name": "Python 3.9.0 64-bit",
   "language": "python",
   "name": "python3"
  },
  "language_info": {
   "codemirror_mode": {
    "name": "ipython",
    "version": 3
   },
   "file_extension": ".py",
   "mimetype": "text/x-python",
   "name": "python",
   "nbconvert_exporter": "python",
   "pygments_lexer": "ipython3",
   "version": "3.9.0"
  },
  "orig_nbformat": 4
 },
 "nbformat": 4,
 "nbformat_minor": 2
}
